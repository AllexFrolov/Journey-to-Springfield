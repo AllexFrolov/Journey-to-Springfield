{
 "cells": [
  {
   "cell_type": "markdown",
   "source": [
    "# Project description\n",
    "\n",
    "В данном задании вам предстоит осуществить путешевствие в мир Спрингфилда,\n",
    "где вы сможете познакомиться со всеми любимыми персонажами Симпсонов.\n",
    "\n",
    "Основным заданием будет обучить классификатор на основе сверточных сетей,\n",
    "чтобы научиться отличать всех жителей Спрингфилда.\n",
    "# Dataset description\n",
    "Обучающая и тестовая выборка состоят из отрывков из мультсериала Симпсоны.\n",
    "Каждая картинка представлена в формате jpg c необходимой меткой - названием\n",
    "персонажа изображенного на ней. Тест был поделен на приватную и публичную\n",
    "часть в соотношении 95/5\n",
    "\n",
    "В тренировочном датасете примерно по 1000 картинок на каждый класс,\n",
    "но они отличаются размером.\n",
    "\n",
    "Метки классов представлены в виде названий папок, в которых лежат картинки."
   ],
   "metadata": {
    "collapsed": false,
    "pycharm": {
     "name": "#%% md\n"
    }
   }
  },
  {
   "cell_type": "markdown",
   "source": [
    "# Table of content:\n",
    "1. [__Data preparation__](#data_preparation)\n",
    "2. [__Create models__](#Create_models)"
   ],
   "metadata": {
    "collapsed": false,
    "pycharm": {
     "name": "#%% md\n"
    }
   }
  },
  {
   "cell_type": "markdown",
   "source": [
    "# <a name='data_preparation'>1. Data preparation</a>"
   ],
   "metadata": {
    "collapsed": false,
    "pycharm": {
     "name": "#%% md\n"
    }
   }
  },
  {
   "cell_type": "code",
   "execution_count": null,
   "metadata": {
    "collapsed": true
   },
   "outputs": [],
   "source": [
    "from copy import deepcopy\n",
    "from tqdm import tqdm\n",
    "from PIL import Image\n",
    "import numpy as np\n",
    "from pathlib import Path\n",
    "import os\n",
    "\n",
    "import torch\n",
    "import torch.nn as nn\n",
    "from torch.utils.data import Dataset, DataLoader\n",
    "from torchvision import transforms\n",
    "from torchvision.datasets import DatasetFolder, ImageFolder\n",
    "from sklearn.model_selection import train_test_split\n",
    "from sklearn.preprocessing import LabelEncoder\n",
    "\n",
    "import matplotlib.pyplot as plt\n",
    "%matplotlib inline\n",
    "\n",
    "DEVICE = torch.device('cuda' if torch.cuda.is_available() else 'cpu')"
   ]
  },
  {
   "cell_type": "code",
   "execution_count": null,
   "outputs": [],
   "source": [
    "# look at the list of classes\n",
    "os.listdir('Data/train')"
   ],
   "metadata": {
    "collapsed": false,
    "pycharm": {
     "name": "#%%\n"
    }
   }
  },
  {
   "cell_type": "code",
   "execution_count": null,
   "outputs": [],
   "source": [
    "dataset = ImageFolder('Data/train/')\n"
   ],
   "metadata": {
    "collapsed": false,
    "pycharm": {
     "name": "#%%\n"
    }
   }
  },
  {
   "cell_type": "code",
   "execution_count": null,
   "outputs": [],
   "source": [
    "# look at the image\n",
    "np.random.seed(42)\n",
    "\n",
    "fig, ax = plt.subplots(nrows=3, ncols=3, figsize=(8, 8),\n",
    "                       sharey=True, sharex=True)\n",
    "\n",
    "for fig_x in ax.flatten():\n",
    "    random_characters = np.random.choice(len(dataset), 1)[0]\n",
    "    im, label = dataset[random_characters]\n",
    "    img_label = \" \".join(map(lambda x: x.capitalize(),\n",
    "                             dataset.classes[label].split('_')))\n",
    "    im = im.resize((224, 244))\n",
    "    fig_x.imshow(im)\n",
    "    if img_label is not None:\n",
    "        fig_x.set_title(img_label)\n",
    "    fig_x.grid(False)"
   ],
   "metadata": {
    "collapsed": false,
    "pycharm": {
     "name": "#%%\n"
    }
   }
  },
  {
   "cell_type": "code",
   "execution_count": null,
   "outputs": [],
   "source": [
    "# Create custom DataLoader\n",
    "class MyDataLoader:\n",
    "    def __init__(self, data, indices: list, batch_size: int, transformer=None, shuffle=False):\n",
    "        assert type(shuffle) is bool, \\\n",
    "            f'shuffle should be bool type, not {type(shuffle)}'\n",
    "        assert type(batch_size) is int, \\\n",
    "            f'batch_size should be type int, not {type(batch_size)}'\n",
    "\n",
    "        self.shuffle = shuffle\n",
    "        self.batch_size = batch_size\n",
    "        self.indices = indices\n",
    "        self.data = data\n",
    "        self.data_len = len(indices)\n",
    "        self.len_ = int(np.ceil(self.data_len / batch_size))\n",
    "\n",
    "        self.transformer = transformer\n",
    "        if transformer is None:\n",
    "            self.transformer = transforms.ToTensor()\n",
    "\n",
    "    def __len__(self):\n",
    "        return self.len_\n",
    "\n",
    "    def __getitem__(self, index):\n",
    "        start_index = index * self.batch_size\n",
    "        end_index = min(self.data_len, start_index + self.batch_size)\n",
    "        batch_indices = self.indices[start_index: end_index]\n",
    "        X_batch = []\n",
    "        y_batch = []\n",
    "        for batch_index in batch_indices:\n",
    "            X, y = self.data[batch_index]\n",
    "            X = self.transformer(X)\n",
    "            X_batch.append(X)\n",
    "            y_batch.append(y)\n",
    "        if len(X_batch) > 1:\n",
    "            X_batch = torch.stack(X_batch)\n",
    "        else:\n",
    "            X_batch = torch.unsqueeze(X_batch[0], 0)\n",
    "        return X_batch, torch.Tensor(y_batch)\n",
    "\n",
    "    def __next__(self):\n",
    "        if self.shuffle:\n",
    "            np.random.shuffle(self.indices)\n",
    "        for n_batch in range(self.len_):\n",
    "            return self.__getitem__(n_batch)"
   ],
   "metadata": {
    "collapsed": false,
    "pycharm": {
     "name": "#%%\n"
    }
   }
  },
  {
   "cell_type": "code",
   "execution_count": null,
   "outputs": [],
   "source": [
    "# split data\n",
    "train_val_indices, test_indices = train_test_split(np.arange(len(dataset)),\n",
    "                                                   train_size=0.75)\n",
    "\n",
    "train_indices, val_indices = train_test_split(train_val_indices,\n",
    "                                              train_size=0.75)\n"
   ],
   "metadata": {
    "collapsed": false,
    "pycharm": {
     "name": "#%%\n"
    }
   }
  },
  {
   "cell_type": "markdown",
   "source": [
    "# <a name='Create_models'>Create models</a>"
   ],
   "metadata": {
    "collapsed": false,
    "pycharm": {
     "name": "#%% md\n"
    }
   }
  },
  {
   "cell_type": "code",
   "execution_count": null,
   "outputs": [],
   "source": [
    "def train(model, optimizer, train_data, val_data, loss_func,\n",
    "          metric=None, epoch_count=10, scheduler=None):\n",
    "    # Train_history\n",
    "    history_info = {'Tloss': [], 'Tmetric': [],\n",
    "                    'Vloss': [], 'Vmetric': []}\n",
    "    # best Val_score and model params\n",
    "    best_score = 0.\n",
    "    best_model_param = {}\n",
    "\n",
    "    datasets = {}\n",
    "    if train_data is not None:\n",
    "        datasets.update({'T': train_loader})\n",
    "    if val_data is not None:\n",
    "        datasets.update({'V': val_loader})\n",
    "\n",
    "    with tqdm(total=epoch_count) as progress_bar:\n",
    "        for epoch in range(epoch_count):\n",
    "            description  = f'Epoch: {epoch+1:3}| '\n",
    "            for mode, data in datasets.items():\n",
    "\n",
    "                model.train(mode=='T')\n",
    "                epoch_loss, epoch_metric =\\\n",
    "                    do_epoch(model, optimizer, loss_func, data,\n",
    "                             mode, metric)\n",
    "                history_info[mode+'loss'].append(epoch_loss)\n",
    "                history_info[mode+'metric'].append(epoch_metric)\n",
    "\n",
    "                # added loss value in progress_bar\n",
    "                description += mode + f'loss {epoch_loss:7.4}| '\n",
    "\n",
    "                # if we have metric than added value in progress_bar\n",
    "                if metric is not None:\n",
    "                    description += mode + f'metric {epoch_metric:7.4}| '\n",
    "\n",
    "                    # save best metric value and model parameters\n",
    "                    if  best_score < epoch_metric and mode=='V':\n",
    "                        best_score = epoch_metric\n",
    "                        best_model_param = deepcopy(model.state_dict())\n",
    "\n",
    "                # scheduler step\n",
    "                if scheduler is not None and mode=='V':\n",
    "                    scheduler.step(epoch_metric)\n",
    "\n",
    "            progress_bar.set_description(description)\n",
    "            progress_bar.update()\n",
    "        return history_info, best_model_param"
   ],
   "metadata": {
    "collapsed": false,
    "pycharm": {
     "name": "#%%\n"
    }
   }
  },
  {
   "cell_type": "code",
   "execution_count": null,
   "outputs": [],
   "source": [
    "def do_epoch(model, optimizer, loss_func, data_loader, mode='T', metric=None):\n",
    "\n",
    "    assert mode=='T' or mode=='V', 'mode can be \"T\" - Train or \"V\" - Validate'\n",
    "    # History\n",
    "    epoch_loss = 0.\n",
    "    epoch_metric = 0.\n",
    "\n",
    "    for X, y in data_loader:\n",
    "        X_tens, y_tens = torch.as_tensor(X, dtype=torch.float, device=DEVICE), \\\n",
    "                torch.as_tensor(y, dtype=torch.long, device=DEVICE)\n",
    "        predict = model(X_tens).squeeze(dim=-1)\n",
    "        loss = loss_func(predict, y_tens)\n",
    "        epoch_loss += loss.item()\n",
    "        # backward\n",
    "        if  mode=='T':\n",
    "            optimizer.zero_grad()\n",
    "            loss.backward()\n",
    "            optimizer.step()\n",
    "        #  metric calculate\n",
    "        if metric is not None:\n",
    "            if DEVICE == 'cpu':\n",
    "                probability = predict[:, 1].detach().numpy()\n",
    "            else:\n",
    "                probability = predict[:, 1].detach().cpu().numpy()\n",
    "            try:\n",
    "                epoch_metric += metric(y.numpy(), probability)\n",
    "            except ValueError as e:\n",
    "                print(e)\n",
    "                print(y)\n",
    "\n",
    "    return epoch_loss / len(data_loader), epoch_metric / len(data_loader)"
   ],
   "metadata": {
    "collapsed": false,
    "pycharm": {
     "name": "#%%\n"
    }
   }
  },
  {
   "cell_type": "code",
   "execution_count": null,
   "outputs": [],
   "source": [
    "# light model\n",
    "\n",
    "class Model(nn.Module):\n",
    "    def __init__(self, in_channel, out_channel, kernel_size, dropout, n_classes):\n",
    "        super().__init__()\n",
    "        self.snn = nn.Conv2d(in_channel, out_channel, kernel_size)\n",
    "        self.relu = nn.ReLU()\n",
    "        self.dropout = nn.Dropout(p=dropout)\n",
    "        self.flatten = nn.Flatten()\n",
    "        self.linear = nn.Linear(222*222*out_channel, n_classes)\n",
    "\n",
    "    def forward(self, inputs):\n",
    "        result = self.dropout(self.relu(self.snn(inputs)))\n",
    "        \n",
    "        return self.linear(self.flatten(result))"
   ],
   "metadata": {
    "collapsed": false,
    "pycharm": {
     "name": "#%%\n"
    }
   }
  },
  {
   "cell_type": "code",
   "execution_count": null,
   "outputs": [],
   "source": [
    "IM_SIZE = (224, 224)\n",
    "\n",
    "train_transformer = transforms.Compose([transforms.Resize(IM_SIZE),\n",
    "                                        transforms.ToTensor(),\n",
    "                                        transforms.Normalize([0.485, 0.456, 0.406],\n",
    "                                                             [0.229, 0.224, 0.225])\n",
    "                                        ])"
   ],
   "metadata": {
    "collapsed": false,
    "pycharm": {
     "name": "#%%\n"
    }
   }
  },
  {
   "cell_type": "code",
   "execution_count": null,
   "outputs": [],
   "source": [
    "in_channel = 3\n",
    "out_channel = 5\n",
    "kernel_size = 3\n",
    "dropout = 0.3\n",
    "output_dim = len(dataset.classes)\n",
    "\n",
    "model = Model(in_channel, out_channel, kernel_size, dropout, output_dim).to(DEVICE)"
   ],
   "metadata": {
    "collapsed": false,
    "pycharm": {
     "name": "#%%\n"
    }
   }
  },
  {
   "cell_type": "code",
   "execution_count": null,
   "outputs": [],
   "source": [
    "optimizer = torch.optim.Adam(model.parameters())\n",
    "\n",
    "loss_func = nn.NLLLoss().to(DEVICE)\n",
    "scheduler = torch.optim.lr_scheduler.ReduceLROnPlateau(\n",
    "    optimizer, factor=0.5, patience=20,\n",
    "    threshold=0.001, cooldown=20, verbose=True)"
   ],
   "metadata": {
    "collapsed": false,
    "pycharm": {
     "name": "#%%\n"
    }
   }
  },
  {
   "cell_type": "code",
   "execution_count": null,
   "outputs": [],
   "source": [
    "# Create data loaders\n",
    "train_loader = MyDataLoader(dataset, train_indices, 64,\n",
    "                            train_transformer, True)\n",
    "val_loader = MyDataLoader(dataset, val_indices, 64)\n",
    "test_loader = MyDataLoader(dataset, test_indices, 64)"
   ],
   "metadata": {
    "collapsed": false,
    "pycharm": {
     "name": "#%%\n"
    }
   }
  },
  {
   "cell_type": "code",
   "execution_count": null,
   "outputs": [],
   "source": [
    "%%time\n",
    "history, best_param = \\\n",
    "        train(model, optimizer, train_loader, None, loss_func,\n",
    "                 metric=None, epoch_count=2, scheduler=scheduler)"
   ],
   "metadata": {
    "collapsed": false,
    "pycharm": {
     "name": "#%%\n"
    }
   }
  },
  {
   "cell_type": "code",
   "execution_count": null,
   "outputs": [],
   "source": [
    "\n"
   ],
   "metadata": {
    "collapsed": false,
    "pycharm": {
     "name": "#%%\n"
    }
   }
  }
 ],
 "metadata": {
  "kernelspec": {
   "display_name": "Python 3",
   "language": "python",
   "name": "python3"
  },
  "language_info": {
   "codemirror_mode": {
    "name": "ipython",
    "version": 2
   },
   "file_extension": ".py",
   "mimetype": "text/x-python",
   "name": "python",
   "nbconvert_exporter": "python",
   "pygments_lexer": "ipython2",
   "version": "2.7.6"
  }
 },
 "nbformat": 4,
 "nbformat_minor": 0
}